{
  "cells": [
    {
      "cell_type": "markdown",
      "metadata": {},
      "source": [
        "# Ejercicio: Uso de funciones en Python"
      ]
    },
    {
      "cell_type": "code",
      "execution_count": 32,
      "metadata": {},
      "outputs": [
        {
          "name": "stdout",
          "output_type": "stream",
          "text": [
            "\n",
            "    78.33333333333333\n",
            "    Tanque 1: 80\n",
            "    Tanque 2: 70\n",
            "    Tanque 3: 85\n",
            "  \n"
          ]
        }
      ],
      "source": [
        "# Función para leer 3 tanques de combustible y muestre el promedio\n",
        "def rep(tank1, tank2, tank3):\n",
        "      return f\"\"\"\n",
        "    {promedio(tank1, tank2, tank3)}\n",
        "    Tanque 1: {tank1}\n",
        "    Tanque 2: {tank2}\n",
        "    Tanque 3: {tank3}\n",
        "  \"\"\"\n",
        "\n",
        "def promedio(tank1,tank2,tank3):\n",
        "      return (tank1+tank2+tank3)/3\n",
        "\n",
        "print(rep(80,70,85))\n",
        "\n",
        "  "
      ]
    },
    {
      "cell_type": "markdown",
      "metadata": {},
      "source": [
        "## Ejercicio 2: Trabajo con argumentos de palabra clave"
      ]
    },
    {
      "cell_type": "code",
      "execution_count": 40,
      "metadata": {},
      "outputs": [
        {
          "name": "stdout",
          "output_type": "stream",
          "text": [
            "\n",
            "    destino: Moon\n",
            "    Hola de lanzamiento:8\n",
            "    Tiempo de vuelo: 11\n",
            "    Total de tiempo de viaje:19\n",
            "    Valor del tanque externo: 300000\n",
            "    Valor del tanque interno: 200000\n",
            "    Combustible restante: 500000\n",
            "  \n"
          ]
        }
      ],
      "source": [
        "# Función con un informe preciso de la misión. Considera hora de prelanzamiento, tiempo de vuelo, destino, tanque externo y tanque interno\n",
        "\n",
        "def rep(destiny,prelaunch_hour, fly_time, external_tank, intern_tank):\n",
        "      return f\"\"\"\n",
        "    destino: {destiny}\n",
        "    Hola de lanzamiento:{prelaunch_hour}\n",
        "    Tiempo de vuelo: {fly_time}\n",
        "    Total de tiempo de viaje:{fly_time + prelaunch_hour}\n",
        "    Valor del tanque externo: {external_tank}\n",
        "    Valor del tanque interno: {intern_tank}\n",
        "    Combustible restante: {external_tank + intern_tank}\n",
        "  \"\"\"\n",
        "\n",
        "print(rep(\"Moon\",8, 11, 300000, 200000))"
      ]
    }
  ],
  "metadata": {
    "interpreter": {
      "hash": "205095b8b86ea82a021a8fc2ffba2b3bc9f8d0be25999901963b225939f75778"
    },
    "kernelspec": {
      "display_name": "Python 3.8.10 64-bit ('tmp': conda)",
      "name": "python3"
    },
    "language_info": {
      "codemirror_mode": {
        "name": "ipython",
        "version": 3
      },
      "file_extension": ".py",
      "mimetype": "text/x-python",
      "name": "python",
      "nbconvert_exporter": "python",
      "pygments_lexer": "ipython3",
      "version": "3.10.0"
    },
    "nteract": {
      "version": "nteract-front-end@1.0.0"
    },
    "orig_nbformat": 4
  },
  "nbformat": 4,
  "nbformat_minor": 2
}

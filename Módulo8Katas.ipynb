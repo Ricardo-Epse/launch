{
  "cells": [
    {
      "cell_type": "markdown",
      "metadata": {},
      "source": [
        "# Ejercicio 1: Creación de diccionarios de Python"
      ]
    },
    {
      "cell_type": "code",
      "execution_count": 2,
      "metadata": {},
      "outputs": [],
      "source": [
        "planet = {\n",
        "  'name': 'Mars',\n",
        "  'moons': 2,\n",
        "}"
      ]
    },
    {
      "cell_type": "code",
      "execution_count": 3,
      "metadata": {},
      "outputs": [
        {
          "name": "stdout",
          "output_type": "stream",
          "text": [
            "planeta Mars tiene 2 lunas\n"
          ]
        }
      ],
      "source": [
        "print(f\"planeta {planet.get('name')} tiene {planet.get('moons')} lunas\")"
      ]
    },
    {
      "cell_type": "code",
      "execution_count": 4,
      "metadata": {},
      "outputs": [],
      "source": [
        "planet.update({\n",
        "    'circunferencia(km)': {\n",
        "    'polar': 6752,\n",
        "    'equatorial': 6792\n",
        "  }\n",
        "})"
      ]
    },
    {
      "cell_type": "code",
      "execution_count": 5,
      "metadata": {},
      "outputs": [
        {
          "name": "stdout",
          "output_type": "stream",
          "text": [
            "Nombre del planeta: Mars.\n",
            "circunferencia polar es: 6752. \n",
            "circunferencia ecuatorial es: 6792.\n"
          ]
        }
      ],
      "source": [
        "print(f\"\"\"Nombre del planeta: {planet.get('name')}.\n",
        "circunferencia polar es: {planet['circumference(km)']['polar']}. \n",
        "circunferencia ecuatorial es: {planet['circumference(km)']['equatorial']}.\"\"\")"
      ]
    },
    {
      "cell_type": "markdown",
      "metadata": {},
      "source": [
        "## Ejercicio 2: Programación dinámica con diccionarios"
      ]
    },
    {
      "cell_type": "code",
      "execution_count": 36,
      "metadata": {},
      "outputs": [],
      "source": [
        "# Planets and moons\n",
        "\n",
        "planet_moons = {\n",
        "    'mercury': 0,\n",
        "    'venus': 0,\n",
        "    'earth': 1,\n",
        "    'mars': 2,\n",
        "    'jupiter': 79,\n",
        "    'saturn': 82,\n",
        "    'uranus': 27,\n",
        "    'neptune': 14,\n",
        "    'pluto': 5,\n",
        "    'haumea': 2,\n",
        "    'makemake': 1,\n",
        "    'eris': 1\n",
        "}\n"
      ]
    },
    {
      "cell_type": "code",
      "execution_count": 47,
      "metadata": {},
      "outputs": [
        {
          "name": "stdout",
          "output_type": "stream",
          "text": [
            "dict_values([0, 0, 1, 2, 79, 82, 27, 14, 5, 2, 1, 1])\n",
            "Lunas totales: 214\n",
            "El número de planetas es: 12\n",
            "Hay en promedio 17.833333333333332 por planeta\n"
          ]
        }
      ],
      "source": [
        "# Añade el código para determinar el número de lunas.\n",
        "moons = planet_moons.values()\n",
        "print(moons)\n",
        "planets = planet_moons.keys()\n",
        "total = 0\n",
        "for moon in moons:\n",
        "  total = total + moon\n",
        "  promedio = total / len(planets)\n",
        "\n",
        "print(f\"Lunas totales: {total}\")\n",
        "print(f\"El total de planetas es: {len(planets)}\")\n",
        "print(f\"Promedio: {promedio} \")"
      ]
    }
  ],
  "metadata": {
    "interpreter": {
      "hash": "916dbcbb3f70747c44a77c7bcd40155683ae19c65e1c03b4aa3499c5328201f1"
    },
    "kernelspec": {
      "display_name": "Python 3.8.10 64-bit",
      "name": "python3"
    },
    "language_info": {
      "codemirror_mode": {
        "name": "ipython",
        "version": 3
      },
      "file_extension": ".py",
      "mimetype": "text/x-python",
      "name": "python",
      "nbconvert_exporter": "python",
      "pygments_lexer": "ipython3",
      "version": "3.10.0"
    },
    "nteract": {
      "version": "nteract-front-end@1.0.0"
    },
    "orig_nbformat": 4
  },
  "nbformat": 4,
  "nbformat_minor": 2
}
